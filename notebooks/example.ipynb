{
 "cells": [
  {
   "cell_type": "code",
   "execution_count": null,
   "metadata": {},
   "outputs": [],
   "source": [
    "pics_dir_path = '../data/interim/images/'"
   ]
  },
  {
   "cell_type": "code",
   "execution_count": null,
   "metadata": {},
   "outputs": [],
   "source": [
    "from delius.clustering.modules.features_extractor import DenseNetFeaturesExtractor\n",
    "from delius.clustering.features_extraction import extract_features\n",
    "\n",
    "extractor = DenseNetFeaturesExtractor()\n",
    "features = extract_features(extractor, pics_dir_path)"
   ]
  },
  {
   "cell_type": "code",
   "execution_count": null,
   "metadata": {},
   "outputs": [],
   "source": [
    "from delius.clustering.modules.features_dataset import FeaturesDataset\n",
    "\n",
    "dataset = FeaturesDataset(features)"
   ]
  },
  {
   "cell_type": "code",
   "execution_count": null,
   "metadata": {},
   "outputs": [],
   "source": [
    "from delius.clustering.encoder_pretraining import pretrain_encoder\n",
    "\n",
    "encoder = pretrain_encoder(dataset)"
   ]
  },
  {
   "cell_type": "code",
   "execution_count": null,
   "metadata": {},
   "outputs": [],
   "source": [
    "from delius.clustering.clusters_initialization import initialize_clusters\n",
    "\n",
    "centroids, assignments = initialize_clusters(dataset, encoder)"
   ]
  },
  {
   "cell_type": "code",
   "execution_count": null,
   "metadata": {},
   "outputs": [],
   "source": [
    "from delius.clustering.dec_fitting import fit_dec\n",
    "\n",
    "dec = fit_dec(encoder, dataset, centroids, assignments)"
   ]
  },
  {
   "cell_type": "code",
   "execution_count": null,
   "metadata": {},
   "outputs": [],
   "source": [
    "import matplotlib.pyplot as plt\n",
    "from delius.clustering.clusters_visualization import (\n",
    "    compute_embeddings_and_assignments,\n",
    "    sample_clustered_embeddings,\n",
    "    plot_2D_clusters,\n",
    "    sample_n_files_per_cluster,\n",
    "    composite_clustered_pics\n",
    ")\n",
    "\n",
    "names, embeddings, assignments = compute_embeddings_and_assignments(dec, dataset)\n",
    "\n",
    "sampled_names, sampled_embeddings, sampled_assignments = sample_clustered_embeddings(\n",
    "    names,\n",
    "    embeddings,\n",
    "    assignments\n",
    ")"
   ]
  },
  {
   "cell_type": "code",
   "execution_count": null,
   "metadata": {},
   "outputs": [],
   "source": [
    "fig = plot_2D_clusters(\n",
    "    sampled_embeddings,\n",
    "    sampled_assignments\n",
    ")\n",
    "\n",
    "plt.show()"
   ]
  },
  {
   "cell_type": "code",
   "execution_count": null,
   "metadata": {},
   "outputs": [],
   "source": [
    "cluster_images = sample_n_files_per_cluster(\n",
    "    sampled_names,\n",
    "    sampled_assignments,\n",
    "    pics_dir_path\n",
    ")\n",
    "\n",
    "composite_clustered_pics(cluster_images)"
   ]
  }
 ],
 "metadata": {
  "kernelspec": {
   "display_name": ".venv",
   "language": "python",
   "name": "python3"
  },
  "language_info": {
   "name": "python",
   "version": "3.10.12"
  }
 },
 "nbformat": 4,
 "nbformat_minor": 2
}
